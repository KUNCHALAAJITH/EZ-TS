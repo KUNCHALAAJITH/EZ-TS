{
 "cells": [
  {
   "cell_type": "markdown",
   "id": "af21a230",
   "metadata": {},
   "source": [
    "# Pyramid pattern"
   ]
  },
  {
   "cell_type": "code",
   "execution_count": 24,
   "id": "ee25349f",
   "metadata": {},
   "outputs": [
    {
     "name": "stdout",
     "output_type": "stream",
     "text": [
      "   *   \n",
      "  ***  \n",
      " ***** \n",
      "*******\n"
     ]
    }
   ],
   "source": [
    "def pyramid(n):\n",
    "    row=n\n",
    "    col=2*n-1\n",
    "    start,end=n-1,n-1\n",
    "    for i in range(row):\n",
    "        for j in range(col):\n",
    "            if j>=start and j<=end:\n",
    "                print(\"*\",end=\"\")\n",
    "            else:\n",
    "                print(\" \",end=\"\")\n",
    "        print()\n",
    "        start-=1\n",
    "        end+=1\n",
    "pyramid(4)"
   ]
  },
  {
   "cell_type": "markdown",
   "id": "0a30623f",
   "metadata": {},
   "source": [
    "# circle pattern"
   ]
  },
  {
   "cell_type": "code",
   "execution_count": 21,
   "id": "67d26fa2",
   "metadata": {},
   "outputs": [
    {
     "name": "stdout",
     "output_type": "stream",
     "text": [
      "  * *   \n",
      "*     * \n",
      "*     * \n",
      "  * *   \n"
     ]
    }
   ],
   "source": [
    "def circle(n):\n",
    "    for i in range(n):\n",
    "        for j in range(n):\n",
    "            if i==j or i+j==n-1:\n",
    "                print(\" \",end=\" \")\n",
    "            else:\n",
    "                print(\"*\",end=\" \")\n",
    "        print()\n",
    "circle(4)"
   ]
  },
  {
   "cell_type": "code",
   "execution_count": 33,
   "id": "d3dd05f8",
   "metadata": {},
   "outputs": [
    {
     "data": {
      "text/plain": [
       "70"
      ]
     },
     "execution_count": 33,
     "metadata": {},
     "output_type": "execute_result"
    }
   ],
   "source": [
    "ord(chr(70))"
   ]
  },
  {
   "cell_type": "markdown",
   "id": "dff30bcc",
   "metadata": {},
   "source": [
    "# lower triangle filled with alphabets"
   ]
  },
  {
   "cell_type": "code",
   "execution_count": 30,
   "id": "43722786",
   "metadata": {},
   "outputs": [
    {
     "name": "stdout",
     "output_type": "stream",
     "text": [
      "a                   \n",
      "b c                 \n",
      "d e f               \n",
      "g h i j             \n",
      "k l m n o           \n",
      "p q r s t u         \n",
      "v w x y z a b       \n",
      "c d e f g h i j     \n",
      "k l m n o p q r s   \n",
      "t u v w x y z a b c \n"
     ]
    }
   ],
   "source": [
    "n=10\n",
    "char='a'\n",
    "for i in range(n):\n",
    "    for j in range(n):\n",
    "        if i==j or i>j:\n",
    "            print(char,end=\" \")\n",
    "            char=chr(ord(char)+1)\n",
    "        else:\n",
    "            print(\" \",end=\" \")\n",
    "        if char>'z':\n",
    "            char='a'\n",
    "    print()"
   ]
  },
  {
   "cell_type": "markdown",
   "id": "1de75362",
   "metadata": {},
   "source": [
    "# Hollow Pyramid"
   ]
  },
  {
   "cell_type": "code",
   "execution_count": 44,
   "id": "1a1d461b",
   "metadata": {},
   "outputs": [
    {
     "name": "stdout",
     "output_type": "stream",
     "text": [
      "         *         \n",
      "        * *        \n",
      "       *   *       \n",
      "      *     *      \n",
      "     *       *     \n",
      "    *         *    \n",
      "   *           *   \n",
      "  *             *  \n",
      " *               * \n",
      "* * * * * * * * * *          \n"
     ]
    }
   ],
   "source": [
    "def pyramid(n):\n",
    "    row=n\n",
    "    col=2*n-1\n",
    "    start,end=n-1,n-1\n",
    "    var=2\n",
    "    for i in range(row):\n",
    "        for j in range(col):\n",
    "            if (j==start or j==end) and i!=n-1:\n",
    "                print(\"*\",end=\"\")\n",
    "            elif i==n-1 and (j>=start and j<=n-1):\n",
    "                print(\"*\",end=\" \")\n",
    "            else:\n",
    "                print(\" \",end=\"\")\n",
    "        print()\n",
    "        start-=1\n",
    "        end+=1\n",
    "pyramid(10)"
   ]
  }
 ],
 "metadata": {
  "kernelspec": {
   "display_name": "Python 3 (ipykernel)",
   "language": "python",
   "name": "python3"
  },
  "language_info": {
   "codemirror_mode": {
    "name": "ipython",
    "version": 3
   },
   "file_extension": ".py",
   "mimetype": "text/x-python",
   "name": "python",
   "nbconvert_exporter": "python",
   "pygments_lexer": "ipython3",
   "version": "3.11.3"
  }
 },
 "nbformat": 4,
 "nbformat_minor": 5
}
