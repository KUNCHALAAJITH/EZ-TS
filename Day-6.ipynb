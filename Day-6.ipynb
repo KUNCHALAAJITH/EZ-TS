{
 "cells": [
  {
   "cell_type": "markdown",
   "id": "b95eaeeb",
   "metadata": {},
   "source": [
    "# RECURSION\n"
   ]
  },
  {
   "cell_type": "code",
   "execution_count": null,
   "id": "7f829160",
   "metadata": {},
   "outputs": [],
   "source": [
    "#recursion is the programming tehnique in which problem is divided into sub parts and evaluated.\n",
    "#It evaluates until it reaches its base case."
   ]
  },
  {
   "cell_type": "markdown",
   "id": "aeaae23d",
   "metadata": {},
   "source": [
    "# BACK_TRACKING "
   ]
  },
  {
   "cell_type": "code",
   "execution_count": null,
   "id": "16d3c139",
   "metadata": {},
   "outputs": [],
   "source": [
    "#it is a problem solving technique where we explore different paths to find a solution to a problem\n",
    "\n",
    "#how it works:\n",
    "'''divides into sub problems\n",
    "checks sub problem\n",
    "goes for backtracking if not true or not satisfied'''"
   ]
  },
  {
   "cell_type": "markdown",
   "id": "191cc2cc",
   "metadata": {},
   "source": [
    "# SUBSET PROBLEM"
   ]
  },
  {
   "cell_type": "code",
   "execution_count": 8,
   "id": "d4b1a721",
   "metadata": {},
   "outputs": [
    {
     "name": "stdout",
     "output_type": "stream",
     "text": [
      "6,8,9,5,4,3,26,2\n",
      "13\n",
      "[[6, 5, 2], [6, 4, 3], [8, 3, 2]]\n"
     ]
    }
   ],
   "source": [
    "li=list(map(int,input().split(\",\")))\n",
    "tar=int(input())\n",
    "res=[]\n",
    "for i in range(len(li)):\n",
    "    for j in range(i+1,len(li)):\n",
    "        for k in range(j+1,len(li)):\n",
    "            if li[i]+li[j]+li[k]==tar:\n",
    "                res.append([li[i],li[j],li[k]])\n",
    "                break\n",
    "print(res)"
   ]
  },
  {
   "cell_type": "code",
   "execution_count": 13,
   "id": "e12e742f",
   "metadata": {},
   "outputs": [
    {
     "name": "stdout",
     "output_type": "stream",
     "text": [
      " 6,8,9,5,4,3,2,6,2\n",
      "[2, 2, 3, 6]\n",
      "[2, 2, 4, 5]\n",
      "[2, 2, 9]\n",
      "[2, 3, 8]\n",
      "[2, 5, 6]\n",
      "[3, 4, 6]\n",
      "[4, 9]\n",
      "[5, 8]\n"
     ]
    }
   ],
   "source": [
    "def subsets(li,tar,curr=[],index=0):\n",
    "    if sum(curr)==tar:\n",
    "        print(curr)\n",
    "        return\n",
    "\n",
    "    if index==len(li) or sum(curr)>tar:\n",
    "        return\n",
    "    \n",
    "    curr.append(li[index])\n",
    "    subsets(li,tar,curr,index + 1)\n",
    "    \n",
    "    curr.pop()\n",
    "    while index<len(li)-1 and li[index]==li[index + 1]:\n",
    "        index+=1  \n",
    "    subsets(li,tar,curr,index + 1)\n",
    "\n",
    "li=list(map(int,input(). bsplit(\",\")))\n",
    "tar=13\n",
    "li.sort()  \n",
    "subsets(li,tar)"
   ]
  },
  {
   "cell_type": "markdown",
   "id": "22977c3d",
   "metadata": {},
   "source": [
    "# bubble sort"
   ]
  },
  {
   "cell_type": "code",
   "execution_count": null,
   "id": "33d73ce8",
   "metadata": {},
   "outputs": [],
   "source": [
    "\n",
    "def bubble_sort(arr):\n",
    "    n = len(arr)\n",
    "    for i in range(n):\n",
    "        swapped = False\n",
    "        for j in range(0, n-i-1):\n",
    "            if arr[j] > arr[j+1]:\n",
    "                arr[j], arr[j+1] = arr[j+1], arr[j]\n",
    "                swapped = True\n",
    "        if not swapped:\n",
    "            break\n",
    "\n",
    "arr = [64, 34, 25, 12, 22, 11, 90]\n",
    "bubble_sort(arr)\n",
    "print(\"Sorted array is:\", arr)\n"
   ]
  },
  {
   "cell_type": "markdown",
   "id": "d1667704",
   "metadata": {},
   "source": [
    "# insertion sort"
   ]
  },
  {
   "cell_type": "code",
   "execution_count": null,
   "id": "ad34820d",
   "metadata": {},
   "outputs": [],
   "source": [
    "def insertion_sort(arr):\n",
    "    for i in range(1, len(arr)):\n",
    "        key = arr[i]  \n",
    "        j = i - 1\n",
    "        while j >= 0 and key < arr[j]:\n",
    "            arr[j + 1] = arr[j]\n",
    "            j -= 1\n",
    "        arr[j + 1] = key\n",
    "        \n",
    "arr = [64, 34, 25, 12, 22, 11, 90]\n",
    "insertion_sort(arr)\n",
    "print(\"Sorted array is:\", arr)\n"
   ]
  }
 ],
 "metadata": {
  "kernelspec": {
   "display_name": "Python 3 (ipykernel)",
   "language": "python",
   "name": "python3"
  },
  "language_info": {
   "codemirror_mode": {
    "name": "ipython",
    "version": 3
   },
   "file_extension": ".py",
   "mimetype": "text/x-python",
   "name": "python",
   "nbconvert_exporter": "python",
   "pygments_lexer": "ipython3",
   "version": "3.11.3"
  }
 },
 "nbformat": 4,
 "nbformat_minor": 5
}
