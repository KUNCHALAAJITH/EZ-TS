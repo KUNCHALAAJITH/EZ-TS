{
 "cells": [
  {
   "cell_type": "markdown",
   "id": "416021fa",
   "metadata": {},
   "source": [
    "# Count Sort"
   ]
  },
  {
   "cell_type": "code",
   "execution_count": 48,
   "id": "816471d1",
   "metadata": {},
   "outputs": [
    {
     "name": "stdout",
     "output_type": "stream",
     "text": [
      "[0, 0, 1, 1, 2, 3, 3, 5]\n"
     ]
    }
   ],
   "source": [
    "arr=[1,3,2,1,3,0,5,1]\n",
    "count=[0 for x in range(len(arr))]\n",
    "res=[0 for x in range(len(arr))]\n",
    "for i in range(len(arr)):\n",
    "        count[i]=arr.count(i)\n",
    "for i in range(len(count)):\n",
    "    if i!=0 and i!=len(count)-1:\n",
    "        count[i]+=count[i-1]\n",
    "    if i==len(count)-1:\n",
    "        count[i]=count[i-1]\n",
    "n=len(arr)-1\n",
    "while (n!=0):\n",
    "    res[count[arr[n]]-1]=arr[n]\n",
    "    count[arr[n]]-=1\n",
    "    n-=1\n",
    "print(res)"
   ]
  },
  {
   "cell_type": "markdown",
   "id": "9f7344ab",
   "metadata": {},
   "source": [
    "# Linear search"
   ]
  },
  {
   "cell_type": "code",
   "execution_count": 37,
   "id": "f6c0e4b3",
   "metadata": {},
   "outputs": [
    {
     "name": "stdout",
     "output_type": "stream",
     "text": [
      "1,6,4,7,3,8,9,7\n",
      "0\n",
      "element not found\n"
     ]
    }
   ],
   "source": [
    "li=list(map(int,input().split(\",\")))\n",
    "tar=int(input())\n",
    "flag=0\n",
    "for i in range(len(li)):\n",
    "    if tar==li[i]:\n",
    "        print(\"element found\")\n",
    "        flag=1\n",
    "        break\n",
    "if flag==0:\n",
    "    print(\"element not found\")"
   ]
  },
  {
   "cell_type": "markdown",
   "id": "f74add4e",
   "metadata": {},
   "source": [
    "# binary search"
   ]
  },
  {
   "cell_type": "code",
   "execution_count": 61,
   "id": "07abddd2",
   "metadata": {},
   "outputs": [
    {
     "name": "stdout",
     "output_type": "stream",
     "text": [
      "1,6,4,7,3,8,9,7\n",
      "7\n",
      "element found\n"
     ]
    }
   ],
   "source": [
    "def bin(li,tar,low,high):\n",
    "    if (low<=high):\n",
    "        mid=(low+high)//2\n",
    "        if li[mid]==tar:\n",
    "            return \"element found\"\n",
    "        elif li[mid]<tar:\n",
    "            return bin(li,tar,mid+1,high)\n",
    "        elif li[mid]>tar:\n",
    "            return bin(li,tar,low,mid-1)\n",
    "    else:\n",
    "        return None\n",
    "li=list(map(int,input().split(\",\")))\n",
    "li.sort()\n",
    "tar=int(input())\n",
    "print(bin(li,tar,0,len(li)-1))  "
   ]
  },
  {
   "cell_type": "markdown",
   "id": "08ecbee4",
   "metadata": {},
   "source": [
    "# simplified masters theorem"
   ]
  },
  {
   "cell_type": "code",
   "execution_count": null,
   "id": "92a4b16c",
   "metadata": {},
   "outputs": [],
   "source": [
    "def master_theorem(a, b, f, n):\n",
    "    \n",
    "    \"\"\"\n",
    "    The Master Theorem for solving recurrence relations of the form:\n",
    "    T(n) = a * T(n/b) + f(n)\n",
    "\n",
    "    :param a: The number of subproblems\n",
    "    :param b: The factor by which the input size is reduced\n",
    "    :param f: The time complexity of the divide step\n",
    "    :param n: The input size\n",
    "    :return: The time complexity of the algorithm\n",
    "    \"\"\"\n",
    "    \n",
    "    if n == 1:\n",
    "        return f(1)\n",
    "\n",
    "    # Calculate n/b and round up to the nearest integer\n",
    "    n_over_b = n // b if n // b == n / b els\\e (n // b) + 1\n",
    "\n",
    "    # Calculate the time complexity of the divide step\n",
    "    f_n_over_b = f(n_over_b)\n",
    "\n",
    "    # Recurrence relation\n",
    "    if n_over_b == n and a > 0:\n",
    "        return a * f(n)  # Case 1: T(n) = a * T(n/b) + f(n)\n",
    "    elif n_over_b < n and a > 0:\n",
    "        return a * f(n) + f_n_over_b  # Case 2: T(n) = a * T(n/b) + f(n) + O(n^k) where k > 0\n",
    "    elif n_over_b > n and a > 0:\n",
    "        return a * f(n) + f_n_over_b  # Case 3: T(n) = a * T(n/b) + f(n) + O(n^k) where k < log_b(a)\n",
    "    else:\n",
    "        raise ValueError(\"Invalid input parameters\")\n",
    "\n",
    "a = 2\n",
    "b = 2\n",
    "f = lambda n: n  # Example: f(n) = n\n",
    "n = 8\n",
    "\n",
    "result = master_theorem(a, b, f, n)\n",
    "print(f\"The time complexity is O({result})\")\n",
    "    "
   ]
  }
 ],
 "metadata": {
  "kernelspec": {
   "display_name": "Python 3 (ipykernel)",
   "language": "python",
   "name": "python3"
  },
  "language_info": {
   "codemirror_mode": {
    "name": "ipython",
    "version": 3
   },
   "file_extension": ".py",
   "mimetype": "text/x-python",
   "name": "python",
   "nbconvert_exporter": "python",
   "pygments_lexer": "ipython3",
   "version": "3.11.3"
  }
 },
 "nbformat": 4,
 "nbformat_minor": 5
}
