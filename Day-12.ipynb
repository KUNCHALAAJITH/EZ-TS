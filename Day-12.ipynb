{
 "cells": [
  {
   "cell_type": "markdown",
   "id": "9ff7357c",
   "metadata": {},
   "source": [
    "# Faith and Expectation"
   ]
  },
  {
   "cell_type": "code",
   "execution_count": 19,
   "id": "041c8788",
   "metadata": {},
   "outputs": [
    {
     "name": "stdout",
     "output_type": "stream",
     "text": [
      "[[1, 2, 3], [1, 3, 2], [2, 1, 3], [2, 3, 1], [3, 1, 2], [3, 2, 1]]\n"
     ]
    }
   ],
   "source": [
    "def permute(arr):\n",
    "    if len(arr)==1:\n",
    "        return [arr]\n",
    "    res=[]\n",
    "    for i in range(len(arr)):\n",
    "        temp=[arr[i]]\n",
    "        sub_arr=arr[0:i]+arr[i+1:]\n",
    "        p_arr=permute(sub_arr)\n",
    "        for e in p_arr:\n",
    "            res.append(temp+e)\n",
    "    return res\n",
    "arr=[1,2,3]\n",
    "print(permute(arr))"
   ]
  },
  {
   "cell_type": "markdown",
   "id": "934d5814",
   "metadata": {},
   "source": [
    "# N Queen Problem"
   ]
  },
  {
   "cell_type": "code",
   "execution_count": 25,
   "id": "4c93f5c6",
   "metadata": {},
   "outputs": [
    {
     "name": "stdout",
     "output_type": "stream",
     "text": [
      "0->1 1->3 2->0 3->2 \n",
      "0->2 1->0 2->3 3->1 \n"
     ]
    }
   ],
   "source": [
    "def solve_n_queens(n,board,row,col,diag,rev_diag,asf):\n",
    "    if row==n:\n",
    "        print(asf)\n",
    "        return\n",
    "    for i in range(n):\n",
    "        if col[i]==0 and diag[row+i]==0 and rev_diag[row-i+n-1]==0:\n",
    "            board[row][i]=1\n",
    "            col[i]=1\n",
    "            diag[row+i]=1\n",
    "            rev_diag[row-i + n-1]=1\n",
    "            solve_n_queens(n,board,row+1,col,diag,rev_diag,asf+str(row)+\"->\"+str(i)+\" \")\n",
    "            col[i]=0\n",
    "            diag[row+i]=0\n",
    "            rev_diag[row-i+n-1]=0\n",
    "n=4\n",
    "board=[[0 for i in range(n)] for j in range(n)]\n",
    "col=[0 for i in range(n)]\n",
    "diag=[0 for i in range(2*n-1)]\n",
    "rev_diag=[0 for i in range(2*n-1)]\n",
    "solve_n_queens(n,board,0,col,diag,rev_diag,\"\")"
   ]
  },
  {
   "cell_type": "markdown",
   "id": "5ee1b0a6",
   "metadata": {},
   "source": [
    "# finding no.of ways"
   ]
  },
  {
   "cell_type": "code",
   "execution_count": 5,
   "id": "02679234",
   "metadata": {},
   "outputs": [
    {
     "name": "stdout",
     "output_type": "stream",
     "text": [
      "2\n"
     ]
    }
   ],
   "source": [
    "def fm(m):\n",
    "    if m==1:\n",
    "        return m\n",
    "    if m<=0:\n",
    "        return 0\n",
    "    return fm(m-1)+fm(m-2)+fm(m-3)\n",
    "print(fm(3))"
   ]
  },
  {
   "cell_type": "markdown",
   "id": "52abd2d0",
   "metadata": {},
   "source": [
    "# fibonacci"
   ]
  },
  {
   "cell_type": "code",
   "execution_count": 7,
   "id": "7df048b3",
   "metadata": {},
   "outputs": [
    {
     "data": {
      "text/plain": [
       "5"
      ]
     },
     "execution_count": 7,
     "metadata": {},
     "output_type": "execute_result"
    }
   ],
   "source": [
    "def fib(n):\n",
    "    if n==1 or n==2:\n",
    "        return 1\n",
    "    return fib(n-1)+fib(n-2)\n",
    "fib(5)"
   ]
  },
  {
   "cell_type": "markdown",
   "id": "b0eb2986",
   "metadata": {},
   "source": [
    "# sum of n"
   ]
  },
  {
   "cell_type": "code",
   "execution_count": 10,
   "id": "12a951a8",
   "metadata": {},
   "outputs": [
    {
     "data": {
      "text/plain": [
       "5050"
      ]
     },
     "execution_count": 10,
     "metadata": {},
     "output_type": "execute_result"
    }
   ],
   "source": [
    "def _sum(n):\n",
    "    if n==1:\n",
    "        return 1\n",
    "    return n+_sum(n-1)\n",
    "_sum(100)"
   ]
  },
  {
   "cell_type": "code",
   "execution_count": 16,
   "id": "c0b793c3",
   "metadata": {},
   "outputs": [
    {
     "name": "stdout",
     "output_type": "stream",
     "text": [
      "0000000000\n",
      "9\n",
      "8\n",
      "7\n",
      "6\n",
      "5\n",
      "4\n",
      "3\n",
      "2\n",
      "1\n",
      "0\n"
     ]
    }
   ],
   "source": [
    "class Node:\n",
    "    def __init__(self,data):\n",
    "        self.data=data\n",
    "        self.next=None\n",
    "class sll:\n",
    "    def __init__(self):\n",
    "        self.start=None\n",
    "        self.temp=None\n",
    "    def create_list(self):\n",
    "        for i in range(10):\n",
    "            new_node=Node(i)\n",
    "            if self.start is None:\n",
    "                self.start=new_node\n",
    "                self.temp=self.start\n",
    "                self.start.next=None\n",
    "            else:\n",
    "                self.temp.next=new_node\n",
    "                self.temp=new_node\n",
    "                new_node.next=None\n",
    "        return self.start\n",
    "    def print_list(self):\n",
    "        self.temp=self.start\n",
    "        while self.temp:\n",
    "            print(self.start.data,end='')\n",
    "            self.temp=self.temp.next\n",
    "        print()\n",
    "    def find_length(self):\n",
    "        temp=self.start\n",
    "        s=0\n",
    "        while temp.next:\n",
    "            temp=temp.next\n",
    "            s+=1\n",
    "        return s+1\n",
    "    def rev(self):\n",
    "        self.temp=self.start\n",
    "        arr=[]\n",
    "        while self.temp:\n",
    "            arr.append(self.temp.data)\n",
    "            self.temp=self.temp.next\n",
    "        while arr:\n",
    "             print(arr.pop())\n",
    "obj=sll()\n",
    "start=obj.create_list()\n",
    "obj.print_list()\n",
    "obj.find_length()\n",
    "obj.rev()"
   ]
  }
 ],
 "metadata": {
  "kernelspec": {
   "display_name": "Python 3 (ipykernel)",
   "language": "python",
   "name": "python3"
  },
  "language_info": {
   "codemirror_mode": {
    "name": "ipython",
    "version": 3
   },
   "file_extension": ".py",
   "mimetype": "text/x-python",
   "name": "python",
   "nbconvert_exporter": "python",
   "pygments_lexer": "ipython3",
   "version": "3.11.3"
  }
 },
 "nbformat": 4,
 "nbformat_minor": 5
}
