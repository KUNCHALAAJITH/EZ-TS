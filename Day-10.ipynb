{
 "cells": [
  {
   "cell_type": "markdown",
   "id": "decf0f84",
   "metadata": {},
   "source": [
    "# finding missing element"
   ]
  },
  {
   "cell_type": "code",
   "execution_count": 13,
   "id": "d85cee8d",
   "metadata": {},
   "outputs": [
    {
     "name": "stdout",
     "output_type": "stream",
     "text": [
      "7\n"
     ]
    }
   ],
   "source": [
    "#m-1   o(n)\n",
    "arr=[1,6,3,5,4,2,9,8,10]\n",
    "n=10\n",
    "a=n*(n+1)//2\n",
    "b=sum(arr)\n",
    "print(a-b)"
   ]
  },
  {
   "cell_type": "code",
   "execution_count": 12,
   "id": "5a5fa69f",
   "metadata": {},
   "outputs": [
    {
     "name": "stdout",
     "output_type": "stream",
     "text": [
      "7\n"
     ]
    }
   ],
   "source": [
    "#m-2(brute force) o(n^2)\n",
    "for i in range(1,n):\n",
    "    if i not in arr:\n",
    "        print(i)"
   ]
  },
  {
   "cell_type": "markdown",
   "id": "18fad97a",
   "metadata": {},
   "source": [
    "### method-3 using XOR"
   ]
  },
  {
   "cell_type": "code",
   "execution_count": 17,
   "id": "96bdff5f",
   "metadata": {},
   "outputs": [
    {
     "name": "stdout",
     "output_type": "stream",
     "text": [
      "7\n"
     ]
    }
   ],
   "source": [
    "#m-3 o(n)\n",
    "res=0\n",
    "for i in range(1,n+1):\n",
    "    res=res^i\n",
    "    if i!=n:\n",
    "        res=res^arr[i-1]\n",
    "print(res)"
   ]
  },
  {
   "cell_type": "markdown",
   "id": "95302455",
   "metadata": {},
   "source": [
    "# two pointers algorithm"
   ]
  },
  {
   "cell_type": "code",
   "execution_count": null,
   "id": "88846d22",
   "metadata": {},
   "outputs": [],
   "source": [
    "def two_pointer(arr,target):\n",
    "    arr.sort()\n",
    "    i,j = 0, len(arr)-1\n",
    "    while i<j:\n",
    "        if arr[i]+arr[j] == target: return True\n",
    "        if arr[i]+arr[j] < target: i+=1\n",
    "        if arr[i]+arr[j] > target: j-=1\n",
    "    return False"
   ]
  },
  {
   "cell_type": "markdown",
   "id": "8ce1cc14",
   "metadata": {},
   "source": [
    "# Sliding window"
   ]
  },
  {
   "cell_type": "code",
   "execution_count": 1,
   "id": "17b2ae4b",
   "metadata": {},
   "outputs": [
    {
     "name": "stdout",
     "output_type": "stream",
     "text": [
      "45\n"
     ]
    }
   ],
   "source": [
    "def sliding_window(arr,k):\n",
    "    sum1=0\n",
    "    ps=0\n",
    "    i,j=0,k-1\n",
    "    while j<len(arr):\n",
    "        if i==0:\n",
    "            sum1=sum(arr[i:j+1])\n",
    "            ps=sum1\n",
    "        else:\n",
    "            cs=ps-arr[i-1]+arr[j]\n",
    "            sum1=max(sum1,cs)\n",
    "            ps=cs\n",
    "        i+=1\n",
    "        j+=1\n",
    "    return sum1\n",
    "print(sliding_window([-3,20,3,-9,18,-45,23,67],3))"
   ]
  },
  {
   "cell_type": "markdown",
   "id": "53337f4c",
   "metadata": {},
   "source": [
    "# kadanes"
   ]
  },
  {
   "cell_type": "code",
   "execution_count": null,
   "id": "8cebd23d",
   "metadata": {},
   "outputs": [],
   "source": [
    "def kadanes(arr):\n",
    "    _sum = float(\"-inf\")\n",
    "    cs = arr[0]\n",
    "    n = len(arr)\n",
    "    for i in range(1,n):\n",
    "        if cs < 0:\n",
    "            cs = 0\n",
    "        cs = cs+arr[i]\n",
    "        if arr[i] < 0:\n",
    "            _sum = max(_sum,cs+arr[i])\n",
    "    return max(_sum,cs)\n",
    "\n",
    "print(kadanes([-1,-2,3,-4,-6,18,65,110]))"
   ]
  },
  {
   "cell_type": "markdown",
   "id": "861c7e4d",
   "metadata": {},
   "source": [
    "# query_subarray_sum"
   ]
  },
  {
   "cell_type": "code",
   "execution_count": null,
   "id": "eef0d197",
   "metadata": {},
   "outputs": [],
   "source": [
    "def query_subarray_sum(arr,queries):\n",
    "    n = len(arr)\n",
    "    ps = [0 for i in range(n)]\n",
    "    for i in range(n):\n",
    "        if i == 0:\n",
    "            ps[i] = arr[i]\n",
    "        else:\n",
    "            ps[i] = ps[i-1]+arr[i]\n",
    "    for query in queries:\n",
    "        i = query[0]\n",
    "        j = query[1]\n",
    "        if i ==0:\n",
    "            print(ps[j],end=\" \")\n",
    "        else:\n",
    "            print(ps[j]-ps[i-1],end=\" \")\n",
    "\n",
    "\n",
    " # arr -> [-1,2,32,4,5,5,4,3,2]\n",
    "    ''' queires=[\n",
    "        [0,4],\n",
    "        [2,5],\n",
    "        [3,6]\n",
    "    ]\n",
    "    '''\n",
    "query_subarray_sum([\n",
    "    2,4,5,1,6,3,7,8\n",
    "],\n",
    "    [\n",
    "        [0,4],[1,3],[4,6]\n",
    "    ]\n",
    ")"
   ]
  },
  {
   "cell_type": "code",
   "execution_count": null,
   "id": "a5886462",
   "metadata": {},
   "outputs": [],
   "source": [
    "def sum(low,high,arr):\n",
    "    sum=0\n",
    "    for i in range(low,high+1):\n",
    "        sum+=arr[i]\n",
    "    return sum\n",
    "arr=[3,9,-2,8,7,6,5]\n",
    "query=[[0,4],[2,5],[0,1],[0,6]]\n",
    "s=[]\n",
    "for i in query:\n",
    "    s.append(sum(i[0],i[1],arr))\n",
    "print(s)"
   ]
  },
  {
   "cell_type": "code",
   "execution_count": null,
   "id": "a78dc709",
   "metadata": {},
   "outputs": [],
   "source": [
    "arr=[3,9,-2,8,7,6,5]\n",
    "query=[[0,4],[2,5],[0,1],[0,6]]\n",
    "for i in range(len(arr)):\n",
    "    if i!=0:\n",
    "        arr[i]+=arr[i-1]\n",
    "for q in query:\n",
    "    i=q[0]\n",
    "    j=q[1]\n",
    "    if i==0:\n",
    "        print(arr[j])\n",
    "    else:\n",
    "        print(arr[j]-arr[i])"
   ]
  }
 ],
 "metadata": {
  "kernelspec": {
   "display_name": "Python 3 (ipykernel)",
   "language": "python",
   "name": "python3"
  },
  "language_info": {
   "codemirror_mode": {
    "name": "ipython",
    "version": 3
   },
   "file_extension": ".py",
   "mimetype": "text/x-python",
   "name": "python",
   "nbconvert_exporter": "python",
   "pygments_lexer": "ipython3",
   "version": "3.11.3"
  }
 },
 "nbformat": 4,
 "nbformat_minor": 5
}
