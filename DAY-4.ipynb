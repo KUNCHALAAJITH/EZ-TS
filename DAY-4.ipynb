{
 "cells": [
  {
   "cell_type": "markdown",
   "id": "b4a48393",
   "metadata": {},
   "source": [
    "# MAGIC SQUARE"
   ]
  },
  {
   "cell_type": "code",
   "execution_count": 1,
   "id": "79e9af1c",
   "metadata": {},
   "outputs": [
    {
     "name": "stdout",
     "output_type": "stream",
     "text": [
      "Enter an odd integer for the order of the magic square: 5\n",
      "Magic Square of Order 5 is:\n",
      "17\t24\t1\t8\t15\t\n",
      "23\t5\t7\t14\t16\t\n",
      "4\t6\t13\t20\t22\t\n",
      "10\t12\t19\t21\t3\t\n",
      "11\t18\t25\t2\t9\t\n"
     ]
    }
   ],
   "source": [
    "def gen_magic_square(n):\n",
    "    \n",
    "    magic_square = [[0] * n for _ in range(n)]\n",
    "    row, col = 0, n // 2\n",
    "    num = 1\n",
    "\n",
    "    while num <= n * n:\n",
    "        magic_square[row][col] = num\n",
    "        num += 1\n",
    "        new_row, new_col = (row - 1) % n, (col + 1) % n\n",
    "\n",
    "        if magic_square[new_row][new_col] != 0:\n",
    "            row = (row + 1) % n\n",
    "        else:\n",
    "            row, col = new_row, new_col\n",
    "\n",
    "    return magic_square\n",
    "\n",
    "def print_(magic_square):\n",
    "    for row in magic_square:\n",
    "        for num in row:\n",
    "            print(num, end=\"\\t\")\n",
    "        print()\n",
    "\n",
    "try:\n",
    "    n = int(input(\"Enter an odd integer for the order of the magic square: \"))\n",
    "    magic_square = gen_magic_square(n)\n",
    "    print(\"Magic Square of Order\", n, \"is:\")\n",
    "    print_(magic_square)\n",
    "except ValueError as e:\n",
    "    print(e)\n"
   ]
  }
 ],
 "metadata": {
  "kernelspec": {
   "display_name": "Python 3 (ipykernel)",
   "language": "python",
   "name": "python3"
  },
  "language_info": {
   "codemirror_mode": {
    "name": "ipython",
    "version": 3
   },
   "file_extension": ".py",
   "mimetype": "text/x-python",
   "name": "python",
   "nbconvert_exporter": "python",
   "pygments_lexer": "ipython3",
   "version": "3.11.3"
  }
 },
 "nbformat": 4,
 "nbformat_minor": 5
}
