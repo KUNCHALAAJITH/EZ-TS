{
 "cells": [
  {
   "cell_type": "markdown",
   "id": "18b3eb22",
   "metadata": {},
   "source": [
    "# finding random code by taking squares of input"
   ]
  },
  {
   "cell_type": "code",
   "execution_count": 15,
   "id": "a1fab551",
   "metadata": {},
   "outputs": [
    {
     "name": "stdout",
     "output_type": "stream",
     "text": [
      "7564168\n",
      "2516\n"
     ]
    }
   ],
   "source": [
    "n=input()\n",
    "p=[n[i] for i in range(len(n)) if i%2!=0]\n",
    "sq=[str(int(p[i])**2) for i in range(len(p))]\n",
    "re=\"\".join(sq)\n",
    "print(re[:4])"
   ]
  },
  {
   "cell_type": "markdown",
   "id": "fc0dcdb9",
   "metadata": {},
   "source": [
    "# initialization of dictionary in dynamic way"
   ]
  },
  {
   "cell_type": "code",
   "execution_count": 2,
   "id": "bf6af4af",
   "metadata": {},
   "outputs": [
    {
     "name": "stdout",
     "output_type": "stream",
     "text": [
      "{'Lion': 'Animal', 'Parrot': 'Bird', 'Cobra': 'Reptile', 'Human': 'Mammals'}\n"
     ]
    }
   ],
   "source": [
    "'''initialization of dictionary in dynamic way'''\n",
    "key = [\"Lion\", \"Parrot\", \"Cobra\", \"Human\"]\n",
    "value = [\"Animal\", \"Bird\", \"Reptile\", \"Mammals\"]\n",
    "my_dict = dict(zip(key,value))\n",
    "print(my_dict)"
   ]
  },
  {
   "cell_type": "markdown",
   "id": "26600142",
   "metadata": {},
   "source": [
    "# finding letter of key of highest digit of code"
   ]
  },
  {
   "cell_type": "code",
   "execution_count": null,
   "id": "308bc6f9",
   "metadata": {},
   "outputs": [],
   "source": [
    "s=input()\n",
    "los=s.split(',')\n",
    "op=''\n",
    "for i in los:\n",
    "    nc=i.split(':')\n",
    "    name=nc[0]\n",
    "    code=nc[1]\n",
    "    max=0\n",
    "    for i in code:\n",
    "        if int(i)>max and int(i)<=len(name):\n",
    "            max=int(i)\n",
    "    if max==0:\n",
    "        op+='X'\n",
    "    else:\n",
    "        op+=name[max-1]\n",
    "print(op)"
   ]
  },
  {
   "cell_type": "markdown",
   "id": "a50a0fad",
   "metadata": {},
   "source": [
    "# finding the index of imbalanced bracket in balanced parantheses problem"
   ]
  },
  {
   "cell_type": "code",
   "execution_count": 20,
   "id": "4391b5c8",
   "metadata": {},
   "outputs": [
    {
     "name": "stdout",
     "output_type": "stream",
     "text": [
      "{}[](\n",
      "5\n"
     ]
    }
   ],
   "source": [
    "def demo(s):\n",
    "    c=0\n",
    "    l=[]\n",
    "    for i in s:\n",
    "        if i=='[' or i=='{' or i=='(':\n",
    "            l.append(i)\n",
    "            c+=1\n",
    "            continue\n",
    "        if len(l)==0:\n",
    "            return c+1\n",
    "        temp=l.pop()\n",
    "        if (temp=='(' and i==')') or (temp=='{' and i=='}') or (temp=='[' and i==']'):\n",
    "            c+=1\n",
    "        else:\n",
    "            return c+1\n",
    "    if len(l)==0:\n",
    "        return 0\n",
    "    else:\n",
    "        return c\n",
    "s=input()\n",
    "if __name__=='__main__':\n",
    "    print(demo(s))\n",
    "        \n",
    "        "
   ]
  },
  {
   "cell_type": "markdown",
   "id": "407e2be6",
   "metadata": {},
   "source": [
    "# reversing the string along with keeping index of spl char as same"
   ]
  },
  {
   "cell_type": "code",
   "execution_count": 30,
   "id": "bcfeb337",
   "metadata": {},
   "outputs": [
    {
     "name": "stdout",
     "output_type": "stream",
     "text": [
      "he@llo\n",
      "ol@leh\n"
     ]
    }
   ],
   "source": [
    "def demo(s):\n",
    "    l=[]\n",
    "    for i in s:\n",
    "        if i.isalpha():\n",
    "            l.append(i)\n",
    "        else:\n",
    "            spc=i\n",
    "            idxspc=s.index(i)\n",
    "    l.reverse()\n",
    "    l.insert(idxspc,spc)\n",
    "    return ''.join(l)\n",
    "s=input()\n",
    "print(demo(s))"
   ]
  },
  {
   "cell_type": "markdown",
   "id": "c1fff3a9",
   "metadata": {},
   "source": [
    "# adding beside 4 and after 7 elements alog with concatenation of between elements"
   ]
  },
  {
   "cell_type": "code",
   "execution_count": 2,
   "id": "5be1f9aa",
   "metadata": {},
   "outputs": [
    {
     "name": "stdout",
     "output_type": "stream",
     "text": [
      "2,5,1,4,3,2,7,8\n",
      "4343\n"
     ]
    }
   ],
   "source": [
    "def demo(s):\n",
    "    los=s.split(',')\n",
    "    idxpof=los.index('4')\n",
    "    idxpos=los.index('7')\n",
    "    n1,n2=0,''\n",
    "    for i in los[:idxpof]+los[idxpos+1:]:\n",
    "        n1+=int(i)\n",
    "    for i in los[idxpof:idxpos+1]:\n",
    "        n2+=i\n",
    "    return (n1+int(n2))\n",
    "s=input()\n",
    "if __name__=='__main__':\n",
    "    print(demo(s))"
   ]
  },
  {
   "cell_type": "markdown",
   "id": "db7c32f1",
   "metadata": {},
   "source": [
    "# "
   ]
  },
  {
   "cell_type": "code",
   "execution_count": 3,
   "id": "7ef03e47",
   "metadata": {},
   "outputs": [
    {
     "name": "stdout",
     "output_type": "stream",
     "text": [
      "true..indices are: 3 5\n"
     ]
    }
   ],
   "source": [
    "arr=[2,3,5,7,10,12,15,20]\n",
    "i=0\n",
    "j=len(arr)-1\n",
    "tar=19\n",
    "k=0\n",
    "while(k<len(arr)):\n",
    "    if (arr[i]+arr[j])<tar:\n",
    "        i+=1\n",
    "    elif (arr[i]+arr[j]>tar):\n",
    "        j-=1\n",
    "    else:\n",
    "        print(\"true..indices are:\",i,j)\n",
    "        break        "
   ]
  },
  {
   "cell_type": "markdown",
   "id": "64fc8c4b",
   "metadata": {},
   "source": [
    "# ceil value:\n",
    "### int arr[]={1,2,8,10,10,12,19}\n",
    "### ceil of 7 (smallest element but which is greater than 7)in the above array is 8."
   ]
  },
  {
   "cell_type": "markdown",
   "id": "ad5900d6",
   "metadata": {},
   "source": [
    "# floor value:\n",
    "### int arr[]={1,2,8,10,10,12,19}\n",
    "### floor of 7 (greatest element but which is lesser than 7)in the above array is 2."
   ]
  },
  {
   "cell_type": "code",
   "execution_count": 19,
   "id": "a1dc5760",
   "metadata": {},
   "outputs": [
    {
     "name": "stdout",
     "output_type": "stream",
     "text": [
      "2\n"
     ]
    }
   ],
   "source": [
    "def binary_search_floor(arr,target):\n",
    "    left=0\n",
    "    right=len(arr)-1\n",
    "    floor=-1\n",
    "    while left<=right:\n",
    "        mid=left+((right-left)//2)\n",
    "        if arr[mid]==target:\n",
    "                return arr[mid]\n",
    "        elif arr[mid]<target:\n",
    "                floor=arr[mid]\n",
    "                left=mid+1\n",
    "        else:\n",
    "                right=mid-1\n",
    "    return floor\n",
    "arr=[1,2,8,10,10,12,19]\n",
    "print(binary_search_floor(arr,7))"
   ]
  },
  {
   "cell_type": "code",
   "execution_count": null,
   "id": "db873185",
   "metadata": {},
   "outputs": [],
   "source": [
    "def binary_search_ceil(arr,target):\n",
    "    left,right=0,len(arr)-1\n",
    "    while left<=right:\n",
    "        mid=left+(right-left)\n",
    "        if arr[mid]==target:\n",
    "            return arr[mid]\n",
    "        elif arr[mid]<target:\n",
    "            left=mid+1\n",
    "        else:\n",
    "            ceil=arr[mid]\n",
    "            right=mid-1\n",
    "    return ceil\n",
    "arr=[1,2,8,10,10,12,19]\n",
    "print(binary_search_ceil(arr,7))"
   ]
  }
 ],
 "metadata": {
  "kernelspec": {
   "display_name": "Python 3 (ipykernel)",
   "language": "python",
   "name": "python3"
  },
  "language_info": {
   "codemirror_mode": {
    "name": "ipython",
    "version": 3
   },
   "file_extension": ".py",
   "mimetype": "text/x-python",
   "name": "python",
   "nbconvert_exporter": "python",
   "pygments_lexer": "ipython3",
   "version": "3.11.3"
  }
 },
 "nbformat": 4,
 "nbformat_minor": 5
}
