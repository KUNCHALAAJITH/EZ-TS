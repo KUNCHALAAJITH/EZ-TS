{
 "cells": [
  {
   "cell_type": "markdown",
   "id": "a6f6751a",
   "metadata": {},
   "source": [
    "# SELECTION SORT"
   ]
  },
  {
   "cell_type": "code",
   "execution_count": 1,
   "id": "f0e658d4",
   "metadata": {},
   "outputs": [
    {
     "name": "stdout",
     "output_type": "stream",
     "text": [
      "14,8,2,19,69,1\n",
      "The array after sorting by selection sort is:\n",
      "[1, 2, 8, 14, 19, 69]\n"
     ]
    }
   ],
   "source": [
    "#finding min index and swapping with current element to right\n",
    "a= list(map(int,input().split(\",\")))\n",
    "size = len(a)\n",
    "for i in range(size):\n",
    "        min_index = i\n",
    "        for j in range(i+1, size):\n",
    "            if a[j] < a[min_index]:\n",
    "                min_index = j\n",
    "        (a[i], a[min_index]) = (a[min_index], a[i])\n",
    "print('The array after sorting by selection sort is:')\n",
    "print(a)"
   ]
  },
  {
   "cell_type": "markdown",
   "id": "2749ede2",
   "metadata": {},
   "source": [
    "# QUICK SORT"
   ]
  },
  {
   "cell_type": "code",
   "execution_count": 4,
   "id": "e0e379fb",
   "metadata": {},
   "outputs": [
    {
     "name": "stdout",
     "output_type": "stream",
     "text": [
      "[1, 3, 5, 7, 8]\n"
     ]
    }
   ],
   "source": [
    "'''select pivot\n",
    "  create left array\n",
    "  create right array\n",
    "  combine left,pivot,right'''\n",
    "def quick_sort(a):\n",
    "    if len(a)==1:\n",
    "        return a\n",
    "    pivot=a[0]\n",
    "    left_a=[i for i in a if i<pivot]\n",
    "    right_a=[i for i in a if i>pivot]\n",
    "    return quick_sort(left_a)+[pivot]+quick_sort(right_a)\n",
    "\n",
    "a=[3,7,5,1,8]\n",
    "result=quick_sort(a)\n",
    "print(result)"
   ]
  },
  {
   "cell_type": "markdown",
   "id": "662770d2",
   "metadata": {},
   "source": [
    "# Merge sort"
   ]
  },
  {
   "cell_type": "code",
   "execution_count": 6,
   "id": "8a28bbfc",
   "metadata": {},
   "outputs": [
    {
     "name": "stdout",
     "output_type": "stream",
     "text": [
      "Unsorted array: [12, 11, 13, 5, 6, 7]\n",
      "Sorted array: [5, 6, 7, 11, 12, 13]\n"
     ]
    }
   ],
   "source": [
    "def merge_sort(arr):\n",
    "    if len(arr) > 1:\n",
    "        mid = len(arr) // 2 \n",
    "        left_half = arr[:mid]\n",
    "        right_half = arr[mid:]\n",
    "        \n",
    "        merge_sort(left_half) \n",
    "        merge_sort(right_half) \n",
    "\n",
    "        i = j = k = 0\n",
    "      \n",
    "        while i < len(left_half) and j < len(right_half):\n",
    "            if left_half[i] < right_half[j]:\n",
    "                arr[k] = left_half[i]\n",
    "                i += 1\n",
    "            else:\n",
    "                arr[k] = right_half[j]\n",
    "                j += 1\n",
    "            k += 1\n",
    "            \n",
    "        while i < len(left_half):\n",
    "            arr[k] = left_half[i]\n",
    "            i += 1\n",
    "            k += 1\n",
    "\n",
    "        while j < len(right_half):\n",
    "            arr[k] = right_half[j]\n",
    "            j += 1\n",
    "            k += 1\n",
    "\n",
    "if __name__ == \"__main__\":\n",
    "    arr = [12, 11, 13, 5, 6, 7]\n",
    "    print(\"Unsorted array:\", arr)\n",
    "    merge_sort(arr)\n",
    "    print(\"Sorted array:\", arr)"
   ]
  },
  {
   "cell_type": "markdown",
   "id": "f41def9b",
   "metadata": {},
   "source": [
    "# inversion count"
   ]
  },
  {
   "cell_type": "code",
   "execution_count": 7,
   "id": "35d50bfd",
   "metadata": {},
   "outputs": [
    {
     "name": "stdout",
     "output_type": "stream",
     "text": [
      "1,6,3,5,4\n",
      "inversion count: 6\n"
     ]
    }
   ],
   "source": [
    "a=list(map(int,input().split(\",\")))\n",
    "n=len(a)\n",
    "c=0\n",
    "for i in range(n):\n",
    "    for j in range(i+1,n):\n",
    "        if a[i]<a[j]:\n",
    "            c+=1\n",
    "print(\"inversion count:\",c)"
   ]
  },
  {
   "cell_type": "code",
   "execution_count": null,
   "id": "eaac3e47",
   "metadata": {},
   "outputs": [],
   "source": []
  }
 ],
 "metadata": {
  "kernelspec": {
   "display_name": "Python 3 (ipykernel)",
   "language": "python",
   "name": "python3"
  },
  "language_info": {
   "codemirror_mode": {
    "name": "ipython",
    "version": 3
   },
   "file_extension": ".py",
   "mimetype": "text/x-python",
   "name": "python",
   "nbconvert_exporter": "python",
   "pygments_lexer": "ipython3",
   "version": "3.11.3"
  }
 },
 "nbformat": 4,
 "nbformat_minor": 5
}
