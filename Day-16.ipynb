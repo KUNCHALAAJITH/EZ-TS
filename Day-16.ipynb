{
 "cells": [
  {
   "cell_type": "markdown",
   "id": "0734ee5e",
   "metadata": {},
   "source": [
    "# Graph creation and printing"
   ]
  },
  {
   "cell_type": "code",
   "execution_count": 1,
   "id": "f30cb08a",
   "metadata": {},
   "outputs": [
    {
     "name": "stdout",
     "output_type": "stream",
     "text": [
      "01476\n",
      "01456\n",
      "0231476\n",
      "0231456\n"
     ]
    }
   ],
   "source": [
    "min_weight=float('+inf')\n",
    "def build_graph(number_of_vertices):\n",
    "    graph = [[] for i in range(number_of_vertices)]\n",
    "\n",
    "    graph[0].append([0,1,10])\n",
    "    graph[0].append([0,2,10])\n",
    "\n",
    "    graph[1].append([1,3,10])\n",
    "    graph[1].append([1,0,10])\n",
    "    graph[1].append([1,4,10])\n",
    "\n",
    "    graph[2].append([2,3,10])\n",
    "    graph[2].append([2,0,10])\n",
    "\n",
    "    graph[3].append([3,2,10])\n",
    "    graph[3].append([3,1,10])\n",
    "\n",
    "    graph[4].append([4,7,10])\n",
    "    graph[4].append([4,5,10])\n",
    "    graph[4].append([4,1,10])\n",
    "\n",
    "    graph[5].append([5,4,10])\n",
    "    graph[5].append([5,6,10])\n",
    "\n",
    "    graph[6].append([6,7,10])\n",
    "    graph[6].append([6,5,10])\n",
    "\n",
    "    graph[7].append([7,6,10])\n",
    "    graph[7].append([7,4,10])\n",
    "\n",
    "    return graph\n",
    "\n",
    "\n",
    "def print_graph(graph):\n",
    "    for vertices in graph:\n",
    "        for edge in vertices:\n",
    "            print(edge,end=\" \")\n",
    "        print()\n",
    "\n",
    "def has_path(graph, src , des , visited):\n",
    "    if src == des:\n",
    "        return True\n",
    "    visited[src] = True\n",
    "    for edge in graph[src]:\n",
    "        if visited[edge[1]] == False:\n",
    "            value = has_path(graph,edge[1],des,visited)\n",
    "            if value == True:\n",
    "                return True\n",
    "    return False\n",
    "\n",
    "\n",
    "def print_all_path(graph,src,des,psf,visited):\n",
    "    if src == des:\n",
    "        psf += str(src)\n",
    "        print(psf)\n",
    "        return\n",
    "    psf+=str(src)\n",
    "    visited[src] = True\n",
    "    for edge in graph[src]:\n",
    "        if visited[edge[1]] == False:\n",
    "            print_all_path(graph,edge[1],des,psf,visited)\n",
    "    visited[src] = False\n",
    "\n",
    "def main():\n",
    "    number_of_vertices = 8\n",
    "    graph = build_graph(number_of_vertices)\n",
    "    #print(graph)\n",
    "    #print_graph(graph)\n",
    "    visited = [False for i in range(number_of_vertices)]\n",
    "    #print(has_path(graph,0,3,visited))\n",
    "    print_all_path(graph,0,6,\"\",visited)\n",
    "    \n",
    "    \n",
    "def multi_solver(graph,src,des,visited,k,threshold):\n",
    "    if src == des:\n",
    "        psf += str(src)\n",
    "        if wsf<min_weight:\n",
    "            min_weight=wsf\n",
    "            min_weight_path=psf\n",
    "        if wsf>max_weight:\n",
    "            max_weight=wsf\n",
    "            max_weight_path=psf\n",
    "        if wsf>threshold and threshold_ceel<wsf:\n",
    "            threshold_ceil=wsf\n",
    "            threshold_ceil_path=psf\n",
    "        if wsf<threshold and threshold_floor>wsf:\n",
    "            threshold_floor=wsf\n",
    "            threshold_floor_path=psf\n",
    "    psf+=str(src)\n",
    "    visited[src]=True\n",
    "    for edge in graph[src]:\n",
    "        \n",
    "    \n",
    "main()"
   ]
  },
  {
   "cell_type": "code",
   "execution_count": null,
   "id": "dd294b0e",
   "metadata": {},
   "outputs": [],
   "source": [
    "class Solution:\n",
    "    def validPath(self, n: int, edges: List[List[int]], src: int, des: int) -> bool:\n",
    "        graph = [[] for _ in range(n)]\n",
    "        for edge in edges:\n",
    "            src1, des1 = edge\n",
    "            src2, des2 = edge[::-1]\n",
    "            graph[src1].append(des1)\n",
    "            graph[src2].append(des2)\n",
    "        \n",
    "        visited = set()\n",
    "        def has_path(node):\n",
    "            if node == des:\n",
    "                return True\n",
    "            visited.add(node)\n",
    "            for neighbor in graph[node]:\n",
    "                if neighbor not in visited:\n",
    "                    if has_path(neighbor):\n",
    "                        return True\n",
    "            return False\n",
    "        return has_path(src)"
   ]
  },
  {
   "cell_type": "markdown",
   "id": "39104b25",
   "metadata": {},
   "source": [
    "# stack"
   ]
  },
  {
   "cell_type": "code",
   "execution_count": 2,
   "id": "f51c712c",
   "metadata": {},
   "outputs": [
    {
     "name": "stdout",
     "output_type": "stream",
     "text": [
      "the actual stack is: [1, 2, 3]\n",
      "the deleted element is: 3\n",
      "peek element is: 2\n"
     ]
    }
   ],
   "source": [
    "stack=[]\n",
    "\n",
    "stack.append(1)\n",
    "stack.append(2)\n",
    "stack.append(3)\n",
    "print(\"the actual stack is:\",stack)\n",
    "\n",
    "print(\"the deleted element is:\",stack.pop())\n",
    "\n",
    "if len(stack)>0:\n",
    "    print(\"peek element is:\",stack[-1])\n"
   ]
  }
 ],
 "metadata": {
  "kernelspec": {
   "display_name": "Python 3 (ipykernel)",
   "language": "python",
   "name": "python3"
  },
  "language_info": {
   "codemirror_mode": {
    "name": "ipython",
    "version": 3
   },
   "file_extension": ".py",
   "mimetype": "text/x-python",
   "name": "python",
   "nbconvert_exporter": "python",
   "pygments_lexer": "ipython3",
   "version": "3.11.3"
  }
 },
 "nbformat": 4,
 "nbformat_minor": 5
}
