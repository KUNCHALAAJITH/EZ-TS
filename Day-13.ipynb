{
 "cells": [
  {
   "cell_type": "code",
   "execution_count": 2,
   "id": "4f6964ce",
   "metadata": {},
   "outputs": [
    {
     "data": {
      "text/plain": [
       "'tree---:\\n    1.binary tree\\n    2.BST\\n    3.terinary tree\\n       ;;\\n       ;;\\n       nth tree\\n\\nGraph:\\n    Heap(Heap-sort)----1.min heap\\n                       2.max heap\\n'"
      ]
     },
     "execution_count": 2,
     "metadata": {},
     "output_type": "execute_result"
    }
   ],
   "source": [
    "'''tree---:\n",
    "    1.binary tree\n",
    "    2.BST\n",
    "    3.terinary tree\n",
    "       ;;\n",
    "       ;;\n",
    "       nth tree\n",
    "\n",
    "Graph:\n",
    "    Heap(Heap-sort)----1.min heap\n",
    "                       2.max heap\n",
    "'''"
   ]
  },
  {
   "cell_type": "code",
   "execution_count": 3,
   "id": "eea14935",
   "metadata": {},
   "outputs": [
    {
     "data": {
      "text/plain": [
       "'linked list---:\\n    1.single\\n    2.double\\n    3.circular\\n    4.xor\\n    5.multi linked list\\nstack,queue,hashing\\nsearching and sorting algorithms\\n'"
      ]
     },
     "execution_count": 3,
     "metadata": {},
     "output_type": "execute_result"
    }
   ],
   "source": [
    "'''linked list---:\n",
    "    1.single\n",
    "    2.double\n",
    "    3.circular\n",
    "    4.xor\n",
    "    5.multi linked list\n",
    "stack,queue,hashing\n",
    "searching and sorting algorithms\n",
    "'''"
   ]
  },
  {
   "cell_type": "code",
   "execution_count": 8,
   "id": "e3442955",
   "metadata": {},
   "outputs": [
    {
     "name": "stdout",
     "output_type": "stream",
     "text": [
      "0 1 2 3 4 5 6 7 8 9 10 \n",
      "10\n",
      "9\n",
      "8\n",
      "7\n",
      "6\n",
      "5\n",
      "4\n",
      "3\n",
      "2\n",
      "1\n",
      "0\n"
     ]
    }
   ],
   "source": [
    "class Node:\n",
    "    # def __new__(self,data):\n",
    "    #     print(\"inside new\")\n",
    "    def __init__(self,data):\n",
    "        self.data = data\n",
    "        self.next = None\n",
    "\n",
    "class LinkedList:\n",
    "    def __init__(self):\n",
    "        self.start = None\n",
    "    def append_node(self,data):\n",
    "        new_node = Node(data)\n",
    "        if self.start is None:\n",
    "            self.start = new_node\n",
    "        else:\n",
    "            temp = self.start\n",
    "            while temp.next is not None:\n",
    "                temp = temp.next\n",
    "            temp.next = new_node\n",
    "        \n",
    "    def print_list(self):\n",
    "        temp = self.start\n",
    "        while temp is not None:\n",
    "            print(temp.data,end=\" \")\n",
    "            temp = temp.next\n",
    "        print()\n",
    "        \n",
    "    def rev(self):\n",
    "        temp=self.start\n",
    "        arr=[]\n",
    "        while temp:\n",
    "            arr.append(temp.data)\n",
    "            temp=temp.next\n",
    "        while len(arr)>0:\n",
    "            print(arr.pop())\n",
    "    def delete_mid(self):\n",
    "        length=self.get_length()\n",
    "        current=self.start\n",
    "        counter=(length//2 -1)\n",
    "        while counter!=0:\n",
    "            current=current.next\n",
    "            counter-=1\n",
    "        if length%2==0:\n",
    "            current.next=current.next.next.next\n",
    "        else:\n",
    "            current.next=current.next.next\n",
    "    def med(self):\n",
    "        length=self.get_length()\n",
    "        current=self.start\n",
    "        counter=(length//2 -1)\n",
    "        while counter!=0:\n",
    "            current=current.next\n",
    "            counter-=1\n",
    "        if length%2==0:\n",
    "            return(current.data+current.next.next.next)\n",
    "        else:\n",
    "            return(current.next.data)\n",
    "    def delete_after_and_before(n):\n",
    "        temp=self.start\n",
    "        if current.data==n:\n",
    "            print(\"before doesnot exist\")\n",
    "            current.next=current.next.next\n",
    "        else:\n",
    "            while current.next.next.data!=n:\n",
    "                current=current.next\n",
    "            current.next=current.next.next\n",
    "            current=current.next\n",
    "            current.next=current.next.next\n",
    "    def insert_after(self,after_val,val_to_be_inserted):\n",
    "        temp=self.start\n",
    "        while temp.data!=after_val:\n",
    "            temp=temp.next\n",
    "        if temp is None:\n",
    "            print(\"after value doesnt exist\")\n",
    "        else:\n",
    "            new_node=Node(val_to_be_inserted)\n",
    "            new_node.next=temp.next\n",
    "            temp.next=new_node\n",
    "my_list = LinkedList()\n",
    "for i in range(11):\n",
    "    my_list.append_node(i)\n",
    "my_list.print_list()\n",
    "my_list.rev()"
   ]
  },
  {
   "cell_type": "code",
   "execution_count": 2,
   "id": "0ddd9abc",
   "metadata": {},
   "outputs": [
    {
     "ename": "MemoryError",
     "evalue": "",
     "output_type": "error",
     "traceback": [
      "\u001b[1;31m---------------------------------------------------------------------------\u001b[0m",
      "\u001b[1;31mMemoryError\u001b[0m                               Traceback (most recent call last)",
      "Cell \u001b[1;32mIn[2], line 22\u001b[0m\n\u001b[0;32m     20\u001b[0m arr1\u001b[38;5;241m=\u001b[39m[\u001b[38;5;241m18\u001b[39m,\u001b[38;5;241m28\u001b[39m,\u001b[38;5;241m58\u001b[39m,\u001b[38;5;241m119\u001b[39m,\u001b[38;5;241m120\u001b[39m]\n\u001b[0;32m     21\u001b[0m arr2\u001b[38;5;241m=\u001b[39m[\u001b[38;5;241m17\u001b[39m,\u001b[38;5;241m19\u001b[39m,\u001b[38;5;241m59\u001b[39m,\u001b[38;5;241m68\u001b[39m,\u001b[38;5;241m123\u001b[39m,\u001b[38;5;241m569\u001b[39m]\n\u001b[1;32m---> 22\u001b[0m \u001b[38;5;28mprint\u001b[39m(sort(arr1,arr2))\n",
      "Cell \u001b[1;32mIn[2], line 17\u001b[0m, in \u001b[0;36msort\u001b[1;34m(arr1, arr2)\u001b[0m\n\u001b[0;32m     15\u001b[0m         i\u001b[38;5;241m+\u001b[39m\u001b[38;5;241m=\u001b[39m\u001b[38;5;241m1\u001b[39m\n\u001b[0;32m     16\u001b[0m     \u001b[38;5;28;01melse\u001b[39;00m:\n\u001b[1;32m---> 17\u001b[0m         res\u001b[38;5;241m.\u001b[39mappend(arr2[j])\n\u001b[0;32m     18\u001b[0m \u001b[38;5;28;01mreturn\u001b[39;00m res\n",
      "\u001b[1;31mMemoryError\u001b[0m: "
     ]
    }
   ],
   "source": [
    "def sort(arr1,arr2):\n",
    "    res=[]\n",
    "    i,j=0,0\n",
    "    while i<len(arr1) or j<len(arr2):\n",
    "        if i>=len(arr1):\n",
    "            while j<len(arr2):\n",
    "                res.append(arr2[j])\n",
    "                j+=1\n",
    "        elif j>=len(arr2):\n",
    "            while i<len(arr1):\n",
    "                res.append(arr1[i])\n",
    "                i+=1\n",
    "        elif arr1[i]<arr2[j]:\n",
    "            res.append(arr1[i])\n",
    "            i+=1\n",
    "        else:\n",
    "            res.append(arr2[j])\n",
    "    return res\n",
    "\n",
    "arr1=[18,28,58,119,120]\n",
    "arr2=[17,19,59,68,123,569]\n",
    "print(sort(arr1,arr2))"
   ]
  },
  {
   "cell_type": "code",
   "execution_count": null,
   "id": "4e3cb9fa",
   "metadata": {},
   "outputs": [],
   "source": [
    "class Linkedlist:\n",
    "    class MergeSortedLinkedList:\n",
    "        def __init__(self):\n",
    "            self.list1=None\n",
    "            self.list2=None\n",
    "        def merge_sorted_list(list1,list2):\n",
    "            while list1 is not None or list2 is not None:\n",
    "        def rotate_list():\n",
    "            temp_current=current\n",
    "            current=current.next\n",
    "            temp_current.next=None\n",
    "            while current is not None:\n",
    "                temp_current=current.next\n",
    "                current.next=self.start\n",
    "                self.start=current\n",
    "                current=temp_current\n",
    "                "
   ]
  }
 ],
 "metadata": {
  "kernelspec": {
   "display_name": "Python 3 (ipykernel)",
   "language": "python",
   "name": "python3"
  },
  "language_info": {
   "codemirror_mode": {
    "name": "ipython",
    "version": 3
   },
   "file_extension": ".py",
   "mimetype": "text/x-python",
   "name": "python",
   "nbconvert_exporter": "python",
   "pygments_lexer": "ipython3",
   "version": "3.11.3"
  }
 },
 "nbformat": 4,
 "nbformat_minor": 5
}
