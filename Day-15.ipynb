{
 "cells": [
  {
   "cell_type": "markdown",
   "id": "d9b22eea",
   "metadata": {},
   "source": [
    "# Hash_Mapping"
   ]
  },
  {
   "cell_type": "code",
   "execution_count": 15,
   "id": "4f014e72",
   "metadata": {},
   "outputs": [
    {
     "name": "stdout",
     "output_type": "stream",
     "text": [
      "{76: 'manikanta', 102: 'Rajkumar', 109: 'Dharma', 187: 'ajith', 87: 'nihanth'}\n",
      "Dharma\n",
      "87 nihanth is not there\n"
     ]
    }
   ],
   "source": [
    "my_map={}\n",
    "my_map[76]=\"manikanta\"\n",
    "my_map[102]=\"Rajkumar\"\n",
    "my_map[109]=\"Dharma\"\n",
    "my_map[187]=\"ajith\"\n",
    "my_map[87]=\"nihanth\"\n",
    "print(my_map)\n",
    "print(my_map[109])\n",
    "del my_map[87]\n",
    "try:\n",
    "    print(my_map[87])\n",
    "except:\n",
    "    print(\"87 nihanth is not there\")"
   ]
  },
  {
   "cell_type": "code",
   "execution_count": 14,
   "id": "976a64d2",
   "metadata": {},
   "outputs": [
    {
     "name": "stdout",
     "output_type": "stream",
     "text": [
      "[1, 3, 5]\n"
     ]
    }
   ],
   "source": [
    "li=[1,2,3,4,5,6]\n",
    "print(li[::2])"
   ]
  },
  {
   "cell_type": "markdown",
   "id": "65e34ae9",
   "metadata": {},
   "source": [
    "# containsNearbyDuplicate"
   ]
  },
  {
   "cell_type": "code",
   "execution_count": 16,
   "id": "299b4b8f",
   "metadata": {},
   "outputs": [],
   "source": [
    "class Solution(object):\n",
    "    def containsNearbyDuplicate(self, nums, k):\n",
    "        my_map={}\n",
    "        for i in range(len(nums)):\n",
    "            key=nums[i]\n",
    "            value=i\n",
    "            if key in my_map:\n",
    "                j=my_map[key]\n",
    "                if abs(value-j)<=k:\n",
    "                    return True\n",
    "            my_map[key]=value"
   ]
  },
  {
   "cell_type": "markdown",
   "id": "cb45bdcb",
   "metadata": {},
   "source": [
    "# majorityElement"
   ]
  },
  {
   "cell_type": "code",
   "execution_count": 17,
   "id": "d2ec36bc",
   "metadata": {},
   "outputs": [],
   "source": [
    "class Solution(object):\n",
    "    def majorityElement(self, nums):\n",
    "        my_map={}\n",
    "        res=[]\n",
    "        for e in nums:\n",
    "            if e not in my_map:\n",
    "                my_map[e] =1\n",
    "            else:\n",
    "                my_map[e]+=1\n",
    "        n=len(nums)/3\n",
    "        for key in my_map:\n",
    "            if my_map[key]>n:\n",
    "                res.append(key)\n",
    "        return res"
   ]
  },
  {
   "cell_type": "markdown",
   "id": "33151810",
   "metadata": {},
   "source": [
    "# countDigitOne"
   ]
  },
  {
   "cell_type": "code",
   "execution_count": 7,
   "id": "5870d0ec",
   "metadata": {},
   "outputs": [
    {
     "data": {
      "text/plain": [
       "1"
      ]
     },
     "execution_count": 7,
     "metadata": {},
     "output_type": "execute_result"
    }
   ],
   "source": [
    "class Solution(object):\n",
    "    def countDigitOne(self, n):\n",
    "        count=0\n",
    "        for i in range(1,n+1):\n",
    "            count+=str(i).count('1')\n",
    "        return count\n",
    "obj=Solution()\n",
    "obj.countDigitOne(8)"
   ]
  },
  {
   "cell_type": "markdown",
   "id": "6ab7eb99",
   "metadata": {},
   "source": [
    "# palindrome linkedlist"
   ]
  },
  {
   "cell_type": "code",
   "execution_count": 24,
   "id": "d877a4f9",
   "metadata": {},
   "outputs": [],
   "source": [
    "class Solution(object):\n",
    "    def isPalindrome(self, head):\n",
    "        stack=[]\n",
    "        temp=head\n",
    "        while temp is not None:\n",
    "            return True"
   ]
  }
 ],
 "metadata": {
  "kernelspec": {
   "display_name": "Python 3 (ipykernel)",
   "language": "python",
   "name": "python3"
  },
  "language_info": {
   "codemirror_mode": {
    "name": "ipython",
    "version": 3
   },
   "file_extension": ".py",
   "mimetype": "text/x-python",
   "name": "python",
   "nbconvert_exporter": "python",
   "pygments_lexer": "ipython3",
   "version": "3.11.3"
  }
 },
 "nbformat": 4,
 "nbformat_minor": 5
}
