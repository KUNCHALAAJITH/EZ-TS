{
 "cells": [
  {
   "cell_type": "code",
   "execution_count": 16,
   "id": "a67c7880",
   "metadata": {},
   "outputs": [
    {
     "name": "stdout",
     "output_type": "stream",
     "text": [
      "['m', 'a', 'd', 'a', 'm']\n"
     ]
    }
   ],
   "source": [
    "_str=\"madam\"\n",
    "li=[]\n",
    "for i in range(len(_str)):\n",
    "    for j in range(len(_str)):\n",
    "            if i==j:\n",
    "                li.append(_str[i])\n",
    "print(li)"
   ]
  },
  {
   "cell_type": "code",
   "execution_count": 20,
   "id": "b511217d",
   "metadata": {},
   "outputs": [
    {
     "ename": "IndexError",
     "evalue": "list index out of range",
     "output_type": "error",
     "traceback": [
      "\u001b[1;31m---------------------------------------------------------------------------\u001b[0m",
      "\u001b[1;31mIndexError\u001b[0m                                Traceback (most recent call last)",
      "Cell \u001b[1;32mIn[20], line 32\u001b[0m\n\u001b[0;32m     30\u001b[0m         j\u001b[38;5;241m+\u001b[39m\u001b[38;5;241m=\u001b[39m\u001b[38;5;241m1\u001b[39m\n\u001b[0;32m     31\u001b[0m         i\u001b[38;5;241m=\u001b[39m\u001b[38;5;241m0\u001b[39m\n\u001b[1;32m---> 32\u001b[0m \u001b[38;5;28mprint\u001b[39m(check())\n",
      "Cell \u001b[1;32mIn[20], line 21\u001b[0m, in \u001b[0;36mcheck\u001b[1;34m()\u001b[0m\n\u001b[0;32m     19\u001b[0m \u001b[38;5;28;01melse\u001b[39;00m:\n\u001b[0;32m     20\u001b[0m     \u001b[38;5;28;01mif\u001b[39;00m _str[i]\u001b[38;5;241m==\u001b[39m_str[jflag]:\n\u001b[1;32m---> 21\u001b[0m         \u001b[38;5;28;01mif\u001b[39;00m dp[i\u001b[38;5;241m+\u001b[39m\u001b[38;5;241m1\u001b[39m][jflag\u001b[38;5;241m-\u001b[39m\u001b[38;5;241m1\u001b[39m]\u001b[38;5;241m==\u001b[39m\u001b[38;5;241m1\u001b[39m:\n\u001b[0;32m     22\u001b[0m             dp[i][jflag]\u001b[38;5;241m=\u001b[39m\u001b[38;5;241m1\u001b[39m\n\u001b[0;32m     23\u001b[0m             count\u001b[38;5;241m+\u001b[39m\u001b[38;5;241m=\u001b[39m\u001b[38;5;241m1\u001b[39m\n",
      "\u001b[1;31mIndexError\u001b[0m: list index out of range"
     ]
    }
   ],
   "source": [
    "def check():\n",
    "    _str=\"madammadam\"\n",
    "    n=len(_str)\n",
    "    dp=[[0 for i in range(n)]for j in range(n)]\n",
    "    i,j=0,0\n",
    "    count=0\n",
    "    while j<n:\n",
    "        jflag=j\n",
    "        while jflag<n:\n",
    "            if i==jflag and i==0 and jflag==0:\n",
    "                dp[i][jflag]=1\n",
    "                count+=1\n",
    "            elif abs(i-jflag)==2:\n",
    "                if _str[i]==_str[jflag]:\n",
    "                    dp[i][jflag]=1\n",
    "                    count+=1\n",
    "                else:\n",
    "                    dp[i][jflag]=0\n",
    "            else:\n",
    "                if _str[i]==_str[jflag]:\n",
    "                    if dp[i+1][jflag-1]==1:\n",
    "                        dp[i][jflag]=1\n",
    "                        count+=1\n",
    "                    else:\n",
    "                        dp[i][jflag]=0\n",
    "                else:\n",
    "                    dp[i][jflag]=0\n",
    "            i+=1\n",
    "            jflag+=1\n",
    "        j+=1\n",
    "        i=0\n",
    "print(check())              "
   ]
  },
  {
   "cell_type": "code",
   "execution_count": 21,
   "id": "67f9d1b7",
   "metadata": {},
   "outputs": [
    {
     "name": "stdout",
     "output_type": "stream",
     "text": [
      "7\n"
     ]
    }
   ],
   "source": [
    "def main():\n",
    "    _str=\"bfbfbfbbfbbfbfbfb\"\n",
    "    visited=[0 for i in range(1000)]\n",
    "    cp=0\n",
    "    visited[cp]=1\n",
    "    ans=1\n",
    "    for ch in _str:\n",
    "        if ch=='b':\n",
    "            if cp-1>=0:\n",
    "                cp-=1\n",
    "        else:\n",
    "            cp+=2\n",
    "        if visited[cp]!=1:\n",
    "            ans+=1\n",
    "            visited[cp]=1\n",
    "    return ans\n",
    "print(main())"
   ]
  },
  {
   "cell_type": "code",
   "execution_count": null,
   "id": "d7c7cb83",
   "metadata": {},
   "outputs": [],
   "source": [
    "def fun(n):\n",
    "    global dp=[-100 for i in range(n)]\n",
    "    if dp[n]!=-100:\n",
    "        \n",
    "    "
   ]
  }
 ],
 "metadata": {
  "kernelspec": {
   "display_name": "Python 3 (ipykernel)",
   "language": "python",
   "name": "python3"
  },
  "language_info": {
   "codemirror_mode": {
    "name": "ipython",
    "version": 3
   },
   "file_extension": ".py",
   "mimetype": "text/x-python",
   "name": "python",
   "nbconvert_exporter": "python",
   "pygments_lexer": "ipython3",
   "version": "3.11.3"
  }
 },
 "nbformat": 4,
 "nbformat_minor": 5
}
